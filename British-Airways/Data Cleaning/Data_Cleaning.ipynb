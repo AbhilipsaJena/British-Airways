{
 "cells": [
  {
   "cell_type": "markdown",
   "id": "96e2da1a-b04b-4ff5-9c04-1c65aa39bdbb",
   "metadata": {},
   "source": [
    "Data Cleaning:\n",
    "\n",
    "Extraction of data from the website is done, it is not cleaned and ready to be analyzed yet. Need to clean for punctuations, spellings and other characters."
   ]
  },
  {
   "cell_type": "code",
   "execution_count": 1,
   "id": "a939e65f-7d40-4028-ba02-086e8fe596cd",
   "metadata": {},
   "outputs": [],
   "source": [
    "#imports\n",
    "\n",
    "import pandas as pd\n",
    "import matplotlib.pyplot as plt\n",
    "import seaborn as sns\n",
    "import os\n",
    "\n",
    "#regex\n",
    "import re"
   ]
  },
  {
   "cell_type": "code",
   "execution_count": 2,
   "id": "457cffc3-d422-4d7e-8f3b-5c158a2afaa8",
   "metadata": {},
   "outputs": [],
   "source": [
    "#create a dataframe from csv file\n",
    "\n",
    "cwd = os.getcwd()\n",
    "\n",
    "df = pd.read_csv(cwd+\"/BA_reviews.csv\", index_col=0)"
   ]
  },
  {
   "cell_type": "code",
   "execution_count": 3,
   "id": "9588b426-98f8-49df-875e-0710b4eacf12",
   "metadata": {},
   "outputs": [
    {
     "data": {
      "text/html": [
       "<div>\n",
       "<style scoped>\n",
       "    .dataframe tbody tr th:only-of-type {\n",
       "        vertical-align: middle;\n",
       "    }\n",
       "\n",
       "    .dataframe tbody tr th {\n",
       "        vertical-align: top;\n",
       "    }\n",
       "\n",
       "    .dataframe thead th {\n",
       "        text-align: right;\n",
       "    }\n",
       "</style>\n",
       "<table border=\"1\" class=\"dataframe\">\n",
       "  <thead>\n",
       "    <tr style=\"text-align: right;\">\n",
       "      <th></th>\n",
       "      <th>reviews</th>\n",
       "      <th>stars</th>\n",
       "      <th>date</th>\n",
       "      <th>country</th>\n",
       "    </tr>\n",
       "  </thead>\n",
       "  <tbody>\n",
       "    <tr>\n",
       "      <th>0</th>\n",
       "      <td>✅ Trip Verified | A simple story with an unfor...</td>\n",
       "      <td>\\n\\t\\t\\t\\t\\t\\t\\t\\t\\t\\t\\t\\t\\t5</td>\n",
       "      <td>21st July 2023</td>\n",
       "      <td>Germany</td>\n",
       "    </tr>\n",
       "    <tr>\n",
       "      <th>1</th>\n",
       "      <td>✅ Trip Verified |  Flight was delayed due to t...</td>\n",
       "      <td>1</td>\n",
       "      <td>21st July 2023</td>\n",
       "      <td>United Kingdom</td>\n",
       "    </tr>\n",
       "    <tr>\n",
       "      <th>2</th>\n",
       "      <td>Not Verified |  Fast and friendly check in (to...</td>\n",
       "      <td>4</td>\n",
       "      <td>20th July 2023</td>\n",
       "      <td>United Kingdom</td>\n",
       "    </tr>\n",
       "    <tr>\n",
       "      <th>3</th>\n",
       "      <td>✅ Trip Verified |  I don't understand why Brit...</td>\n",
       "      <td>8</td>\n",
       "      <td>20th July 2023</td>\n",
       "      <td>United Kingdom</td>\n",
       "    </tr>\n",
       "    <tr>\n",
       "      <th>4</th>\n",
       "      <td>Not Verified |  I'm sure that BA have graduall...</td>\n",
       "      <td>2</td>\n",
       "      <td>20th July 2023</td>\n",
       "      <td>United Kingdom</td>\n",
       "    </tr>\n",
       "  </tbody>\n",
       "</table>\n",
       "</div>"
      ],
      "text/plain": [
       "                                             reviews  \\\n",
       "0  ✅ Trip Verified | A simple story with an unfor...   \n",
       "1  ✅ Trip Verified |  Flight was delayed due to t...   \n",
       "2  Not Verified |  Fast and friendly check in (to...   \n",
       "3  ✅ Trip Verified |  I don't understand why Brit...   \n",
       "4  Not Verified |  I'm sure that BA have graduall...   \n",
       "\n",
       "                           stars            date         country  \n",
       "0  \\n\\t\\t\\t\\t\\t\\t\\t\\t\\t\\t\\t\\t\\t5  21st July 2023         Germany  \n",
       "1                              1  21st July 2023  United Kingdom  \n",
       "2                              4  20th July 2023  United Kingdom  \n",
       "3                              8  20th July 2023  United Kingdom  \n",
       "4                              2  20th July 2023  United Kingdom  "
      ]
     },
     "execution_count": 3,
     "metadata": {},
     "output_type": "execute_result"
    }
   ],
   "source": [
    "df.head()"
   ]
  },
  {
   "cell_type": "code",
   "execution_count": 4,
   "id": "0483ceae-5ce1-49d6-9e4e-fc05752a7665",
   "metadata": {},
   "outputs": [],
   "source": [
    "df['verified'] = df.reviews.str.contains(\"Trip Verified\")"
   ]
  },
  {
   "cell_type": "code",
   "execution_count": 5,
   "id": "90e9af37-0d16-4b5f-a85b-7b5a496cb38e",
   "metadata": {},
   "outputs": [
    {
     "data": {
      "text/plain": [
       "0        True\n",
       "1        True\n",
       "2       False\n",
       "3        True\n",
       "4       False\n",
       "        ...  \n",
       "3495    False\n",
       "3496    False\n",
       "3497    False\n",
       "3498    False\n",
       "3499    False\n",
       "Name: verified, Length: 3500, dtype: bool"
      ]
     },
     "execution_count": 5,
     "metadata": {},
     "output_type": "execute_result"
    }
   ],
   "source": [
    "df['verified']"
   ]
  },
  {
   "cell_type": "code",
   "execution_count": 8,
   "id": "972e5ef7-41b1-43ba-8d5c-34b71252c726",
   "metadata": {},
   "outputs": [],
   "source": [
    "from nltk.stem import WordNetLemmatizer\n",
    "from nltk.corpus import stopwords\n",
    "import re\n",
    "\n",
    "lemma = WordNetLemmatizer()\n",
    "\n",
    "reviews_data = df.reviews.str.strip(\"✅ Trip Verified |\")\n",
    "\n",
    "#create an empty list to collect cleaned data corpus\n",
    "corpus = []\n",
    "\n",
    "#loop through each review, remove punctuations, small case it, join it, and add it to corpus\n",
    "for rev in reviews_data:\n",
    "    rev = re.sub('[^a-zA-Z]', ' ', rev)\n",
    "    rev = rev.lower()\n",
    "    rev = rev.split()\n",
    "    rev = [lemma.lemmatize(word) for word in rev if word not in set(stopwords.words(\"english\"))]\n",
    "    rev = \" \".join(rev)\n",
    "    corpus.append(rev)\n"
   ]
  },
  {
   "cell_type": "code",
   "execution_count": 9,
   "id": "098ef86e-600f-4632-999e-0924dcd07120",
   "metadata": {},
   "outputs": [],
   "source": [
    "df['corpus'] = corpus"
   ]
  },
  {
   "cell_type": "code",
   "execution_count": 10,
   "id": "d0f29c2b-c22f-4154-9cb4-d28a143bbc0d",
   "metadata": {},
   "outputs": [
    {
     "data": {
      "text/html": [
       "<div>\n",
       "<style scoped>\n",
       "    .dataframe tbody tr th:only-of-type {\n",
       "        vertical-align: middle;\n",
       "    }\n",
       "\n",
       "    .dataframe tbody tr th {\n",
       "        vertical-align: top;\n",
       "    }\n",
       "\n",
       "    .dataframe thead th {\n",
       "        text-align: right;\n",
       "    }\n",
       "</style>\n",
       "<table border=\"1\" class=\"dataframe\">\n",
       "  <thead>\n",
       "    <tr style=\"text-align: right;\">\n",
       "      <th></th>\n",
       "      <th>reviews</th>\n",
       "      <th>stars</th>\n",
       "      <th>date</th>\n",
       "      <th>country</th>\n",
       "      <th>verified</th>\n",
       "      <th>corpus</th>\n",
       "    </tr>\n",
       "  </thead>\n",
       "  <tbody>\n",
       "    <tr>\n",
       "      <th>0</th>\n",
       "      <td>✅ Trip Verified | A simple story with an unfor...</td>\n",
       "      <td>\\n\\t\\t\\t\\t\\t\\t\\t\\t\\t\\t\\t\\t\\t5</td>\n",
       "      <td>21st July 2023</td>\n",
       "      <td>Germany</td>\n",
       "      <td>True</td>\n",
       "      <td>simple story unfortunate outcome really could ...</td>\n",
       "    </tr>\n",
       "    <tr>\n",
       "      <th>1</th>\n",
       "      <td>✅ Trip Verified |  Flight was delayed due to t...</td>\n",
       "      <td>1</td>\n",
       "      <td>21st July 2023</td>\n",
       "      <td>United Kingdom</td>\n",
       "      <td>True</td>\n",
       "      <td>flight delayed due inbound flight arriving lat...</td>\n",
       "    </tr>\n",
       "    <tr>\n",
       "      <th>2</th>\n",
       "      <td>Not Verified |  Fast and friendly check in (to...</td>\n",
       "      <td>4</td>\n",
       "      <td>20th July 2023</td>\n",
       "      <td>United Kingdom</td>\n",
       "      <td>False</td>\n",
       "      <td>verified fast friendly check total contrast ga...</td>\n",
       "    </tr>\n",
       "    <tr>\n",
       "      <th>3</th>\n",
       "      <td>✅ Trip Verified |  I don't understand why Brit...</td>\n",
       "      <td>8</td>\n",
       "      <td>20th July 2023</td>\n",
       "      <td>United Kingdom</td>\n",
       "      <td>True</td>\n",
       "      <td>understand british airway classified star airl...</td>\n",
       "    </tr>\n",
       "    <tr>\n",
       "      <th>4</th>\n",
       "      <td>Not Verified |  I'm sure that BA have graduall...</td>\n",
       "      <td>2</td>\n",
       "      <td>20th July 2023</td>\n",
       "      <td>United Kingdom</td>\n",
       "      <td>False</td>\n",
       "      <td>verified sure ba gradually made economy experi...</td>\n",
       "    </tr>\n",
       "  </tbody>\n",
       "</table>\n",
       "</div>"
      ],
      "text/plain": [
       "                                             reviews  \\\n",
       "0  ✅ Trip Verified | A simple story with an unfor...   \n",
       "1  ✅ Trip Verified |  Flight was delayed due to t...   \n",
       "2  Not Verified |  Fast and friendly check in (to...   \n",
       "3  ✅ Trip Verified |  I don't understand why Brit...   \n",
       "4  Not Verified |  I'm sure that BA have graduall...   \n",
       "\n",
       "                           stars            date         country  verified  \\\n",
       "0  \\n\\t\\t\\t\\t\\t\\t\\t\\t\\t\\t\\t\\t\\t5  21st July 2023         Germany      True   \n",
       "1                              1  21st July 2023  United Kingdom      True   \n",
       "2                              4  20th July 2023  United Kingdom     False   \n",
       "3                              8  20th July 2023  United Kingdom      True   \n",
       "4                              2  20th July 2023  United Kingdom     False   \n",
       "\n",
       "                                              corpus  \n",
       "0  simple story unfortunate outcome really could ...  \n",
       "1  flight delayed due inbound flight arriving lat...  \n",
       "2  verified fast friendly check total contrast ga...  \n",
       "3  understand british airway classified star airl...  \n",
       "4  verified sure ba gradually made economy experi...  "
      ]
     },
     "execution_count": 10,
     "metadata": {},
     "output_type": "execute_result"
    }
   ],
   "source": [
    "df.head()"
   ]
  },
  {
   "cell_type": "code",
   "execution_count": 11,
   "id": "6f67c135-a5a6-477d-b36b-42b99411fa47",
   "metadata": {},
   "outputs": [
    {
     "data": {
      "text/plain": [
       "reviews     object\n",
       "stars       object\n",
       "date        object\n",
       "country     object\n",
       "verified      bool\n",
       "corpus      object\n",
       "dtype: object"
      ]
     },
     "execution_count": 11,
     "metadata": {},
     "output_type": "execute_result"
    }
   ],
   "source": [
    "df.dtypes"
   ]
  },
  {
   "cell_type": "code",
   "execution_count": 12,
   "id": "b93775e9-4505-4150-821a-761b5b9817a3",
   "metadata": {},
   "outputs": [],
   "source": [
    "# convert the date to datetime format\n",
    "\n",
    "df.date = pd.to_datetime(df.date)"
   ]
  },
  {
   "cell_type": "code",
   "execution_count": 13,
   "id": "27a8448d-a190-4a38-bd3d-0447ac63c157",
   "metadata": {},
   "outputs": [
    {
     "data": {
      "text/plain": [
       "0   2023-07-21\n",
       "1   2023-07-21\n",
       "2   2023-07-20\n",
       "3   2023-07-20\n",
       "4   2023-07-20\n",
       "Name: date, dtype: datetime64[ns]"
      ]
     },
     "execution_count": 13,
     "metadata": {},
     "output_type": "execute_result"
    }
   ],
   "source": [
    "df.date.head()"
   ]
  },
  {
   "cell_type": "markdown",
   "id": "1aba5a7a-cdb7-41d4-8a2b-4409d9742d7d",
   "metadata": {},
   "source": [
    "Cleaning ratings with stars"
   ]
  },
  {
   "cell_type": "code",
   "execution_count": 14,
   "id": "93ce372a-3b8e-4265-8efe-6b54bacdc3f9",
   "metadata": {},
   "outputs": [
    {
     "data": {
      "text/plain": [
       "array(['\\n\\t\\t\\t\\t\\t\\t\\t\\t\\t\\t\\t\\t\\t5', '1', '4', '8', '2', '9', '3',\n",
       "       '10', '7', '5', '6', 'None'], dtype=object)"
      ]
     },
     "execution_count": 14,
     "metadata": {},
     "output_type": "execute_result"
    }
   ],
   "source": [
    "#check for unique values\n",
    "df.stars.unique()"
   ]
  },
  {
   "cell_type": "code",
   "execution_count": 15,
   "id": "392ad3db-be8b-4f12-8f6f-d4f11c15e709",
   "metadata": {},
   "outputs": [],
   "source": [
    "df.stars = df.stars.str.strip(\"\\n\\t\\t\\t\\t\\t\\t\\t\\t\\t\\t\\t\\t\\t\")"
   ]
  },
  {
   "cell_type": "code",
   "execution_count": 16,
   "id": "2df16ffe-d1b6-4503-93c3-07cf253125e4",
   "metadata": {},
   "outputs": [
    {
     "data": {
      "text/plain": [
       "1       800\n",
       "2       401\n",
       "3       393\n",
       "8       346\n",
       "10      302\n",
       "9       296\n",
       "7       293\n",
       "5       251\n",
       "4       240\n",
       "6       173\n",
       "None      5\n",
       "Name: stars, dtype: int64"
      ]
     },
     "execution_count": 16,
     "metadata": {},
     "output_type": "execute_result"
    }
   ],
   "source": [
    "df.stars.value_counts()"
   ]
  },
  {
   "cell_type": "code",
   "execution_count": 17,
   "id": "de236604-3b14-4551-9458-66cf4f5626fc",
   "metadata": {},
   "outputs": [],
   "source": [
    "# drop the rows where the value of ratings is None\n",
    "df.drop(df[df.stars == \"None\"].index, axis=0, inplace=True)"
   ]
  },
  {
   "cell_type": "code",
   "execution_count": 18,
   "id": "4698a0b5-70e7-4869-ad04-fe1995ac4328",
   "metadata": {},
   "outputs": [
    {
     "data": {
      "text/plain": [
       "array(['5', '1', '4', '8', '2', '9', '3', '10', '7', '6'], dtype=object)"
      ]
     },
     "execution_count": 18,
     "metadata": {},
     "output_type": "execute_result"
    }
   ],
   "source": [
    "#check the unique values again\n",
    "df.stars.unique()"
   ]
  },
  {
   "cell_type": "markdown",
   "id": "df17393f-a5bf-4425-93d9-ccc96ef13be4",
   "metadata": {},
   "source": [
    "Check for null Values:\n"
   ]
  },
  {
   "cell_type": "code",
   "execution_count": 19,
   "id": "f546b822-6e8c-4533-8e39-a2f93291da7d",
   "metadata": {},
   "outputs": [
    {
     "data": {
      "text/plain": [
       "reviews  stars  date   country  verified  corpus\n",
       "False    False  False  False    False     False     3493\n",
       "                       True     False     False        2\n",
       "dtype: int64"
      ]
     },
     "execution_count": 19,
     "metadata": {},
     "output_type": "execute_result"
    }
   ],
   "source": [
    "df.isnull().value_counts()"
   ]
  },
  {
   "cell_type": "code",
   "execution_count": 20,
   "id": "21963b4a-e2db-4cb3-a3b3-17d676eedbb4",
   "metadata": {},
   "outputs": [
    {
     "data": {
      "text/plain": [
       "False    3493\n",
       "True        2\n",
       "Name: country, dtype: int64"
      ]
     },
     "execution_count": 20,
     "metadata": {},
     "output_type": "execute_result"
    }
   ],
   "source": [
    "df.country.isnull().value_counts()"
   ]
  },
  {
   "cell_type": "code",
   "execution_count": 21,
   "id": "1ea95f20-b886-45de-af65-cced0d511239",
   "metadata": {},
   "outputs": [],
   "source": [
    "#drop the rows using index where the country value is null\n",
    "df.drop(df[df.country.isnull() == True].index, axis=0, inplace=True)"
   ]
  },
  {
   "cell_type": "code",
   "execution_count": 22,
   "id": "9525fdd1-ffca-4472-8977-3314d6ea683b",
   "metadata": {},
   "outputs": [
    {
     "data": {
      "text/plain": [
       "(3493, 6)"
      ]
     },
     "execution_count": 22,
     "metadata": {},
     "output_type": "execute_result"
    }
   ],
   "source": [
    "df.shape"
   ]
  },
  {
   "cell_type": "code",
   "execution_count": 23,
   "id": "9ff487e5-d440-4a90-bcbf-53f03f253c7b",
   "metadata": {},
   "outputs": [
    {
     "data": {
      "text/html": [
       "<div>\n",
       "<style scoped>\n",
       "    .dataframe tbody tr th:only-of-type {\n",
       "        vertical-align: middle;\n",
       "    }\n",
       "\n",
       "    .dataframe tbody tr th {\n",
       "        vertical-align: top;\n",
       "    }\n",
       "\n",
       "    .dataframe thead th {\n",
       "        text-align: right;\n",
       "    }\n",
       "</style>\n",
       "<table border=\"1\" class=\"dataframe\">\n",
       "  <thead>\n",
       "    <tr style=\"text-align: right;\">\n",
       "      <th></th>\n",
       "      <th>reviews</th>\n",
       "      <th>stars</th>\n",
       "      <th>date</th>\n",
       "      <th>country</th>\n",
       "      <th>verified</th>\n",
       "      <th>corpus</th>\n",
       "    </tr>\n",
       "  </thead>\n",
       "  <tbody>\n",
       "    <tr>\n",
       "      <th>0</th>\n",
       "      <td>✅ Trip Verified | A simple story with an unfor...</td>\n",
       "      <td>5</td>\n",
       "      <td>2023-07-21</td>\n",
       "      <td>Germany</td>\n",
       "      <td>True</td>\n",
       "      <td>simple story unfortunate outcome really could ...</td>\n",
       "    </tr>\n",
       "    <tr>\n",
       "      <th>1</th>\n",
       "      <td>✅ Trip Verified |  Flight was delayed due to t...</td>\n",
       "      <td>1</td>\n",
       "      <td>2023-07-21</td>\n",
       "      <td>United Kingdom</td>\n",
       "      <td>True</td>\n",
       "      <td>flight delayed due inbound flight arriving lat...</td>\n",
       "    </tr>\n",
       "    <tr>\n",
       "      <th>2</th>\n",
       "      <td>Not Verified |  Fast and friendly check in (to...</td>\n",
       "      <td>4</td>\n",
       "      <td>2023-07-20</td>\n",
       "      <td>United Kingdom</td>\n",
       "      <td>False</td>\n",
       "      <td>verified fast friendly check total contrast ga...</td>\n",
       "    </tr>\n",
       "    <tr>\n",
       "      <th>3</th>\n",
       "      <td>✅ Trip Verified |  I don't understand why Brit...</td>\n",
       "      <td>8</td>\n",
       "      <td>2023-07-20</td>\n",
       "      <td>United Kingdom</td>\n",
       "      <td>True</td>\n",
       "      <td>understand british airway classified star airl...</td>\n",
       "    </tr>\n",
       "    <tr>\n",
       "      <th>4</th>\n",
       "      <td>Not Verified |  I'm sure that BA have graduall...</td>\n",
       "      <td>2</td>\n",
       "      <td>2023-07-20</td>\n",
       "      <td>United Kingdom</td>\n",
       "      <td>False</td>\n",
       "      <td>verified sure ba gradually made economy experi...</td>\n",
       "    </tr>\n",
       "    <tr>\n",
       "      <th>...</th>\n",
       "      <td>...</td>\n",
       "      <td>...</td>\n",
       "      <td>...</td>\n",
       "      <td>...</td>\n",
       "      <td>...</td>\n",
       "      <td>...</td>\n",
       "    </tr>\n",
       "    <tr>\n",
       "      <th>3488</th>\n",
       "      <td>I flew LHR-YVR outwards 20th May 2014 on 747. ...</td>\n",
       "      <td>9</td>\n",
       "      <td>2014-06-16</td>\n",
       "      <td>United Kingdom</td>\n",
       "      <td>False</td>\n",
       "      <td>flew lhr yvr outwards th may cabin newly fitte...</td>\n",
       "    </tr>\n",
       "    <tr>\n",
       "      <th>3489</th>\n",
       "      <td>LGW - Paphos 4th June. Check in and fast track...</td>\n",
       "      <td>7</td>\n",
       "      <td>2014-06-16</td>\n",
       "      <td>United Kingdom</td>\n",
       "      <td>False</td>\n",
       "      <td>lgw paphos th june check fast track security e...</td>\n",
       "    </tr>\n",
       "    <tr>\n",
       "      <th>3490</th>\n",
       "      <td>Business class from Shanghai to London. It was...</td>\n",
       "      <td>5</td>\n",
       "      <td>2014-06-16</td>\n",
       "      <td>United Kingdom</td>\n",
       "      <td>False</td>\n",
       "      <td>business class shanghai london worst business ...</td>\n",
       "    </tr>\n",
       "    <tr>\n",
       "      <th>3491</th>\n",
       "      <td>Paphos - LGW 11th June. We had monitored the o...</td>\n",
       "      <td>4</td>\n",
       "      <td>2014-06-16</td>\n",
       "      <td>United Kingdom</td>\n",
       "      <td>False</td>\n",
       "      <td>paphos lgw th june monitored outbound flight i...</td>\n",
       "    </tr>\n",
       "    <tr>\n",
       "      <th>3492</th>\n",
       "      <td>LHR to DXB 11 Jun 14 Club World Upper Deck 64A...</td>\n",
       "      <td>2</td>\n",
       "      <td>2014-06-13</td>\n",
       "      <td>United Kingdom</td>\n",
       "      <td>False</td>\n",
       "      <td>lhr dxb jun club world upper deck great flight...</td>\n",
       "    </tr>\n",
       "  </tbody>\n",
       "</table>\n",
       "<p>3493 rows × 6 columns</p>\n",
       "</div>"
      ],
      "text/plain": [
       "                                                reviews stars       date  \\\n",
       "0     ✅ Trip Verified | A simple story with an unfor...     5 2023-07-21   \n",
       "1     ✅ Trip Verified |  Flight was delayed due to t...     1 2023-07-21   \n",
       "2     Not Verified |  Fast and friendly check in (to...     4 2023-07-20   \n",
       "3     ✅ Trip Verified |  I don't understand why Brit...     8 2023-07-20   \n",
       "4     Not Verified |  I'm sure that BA have graduall...     2 2023-07-20   \n",
       "...                                                 ...   ...        ...   \n",
       "3488  I flew LHR-YVR outwards 20th May 2014 on 747. ...     9 2014-06-16   \n",
       "3489  LGW - Paphos 4th June. Check in and fast track...     7 2014-06-16   \n",
       "3490  Business class from Shanghai to London. It was...     5 2014-06-16   \n",
       "3491  Paphos - LGW 11th June. We had monitored the o...     4 2014-06-16   \n",
       "3492  LHR to DXB 11 Jun 14 Club World Upper Deck 64A...     2 2014-06-13   \n",
       "\n",
       "             country  verified  \\\n",
       "0            Germany      True   \n",
       "1     United Kingdom      True   \n",
       "2     United Kingdom     False   \n",
       "3     United Kingdom      True   \n",
       "4     United Kingdom     False   \n",
       "...              ...       ...   \n",
       "3488  United Kingdom     False   \n",
       "3489  United Kingdom     False   \n",
       "3490  United Kingdom     False   \n",
       "3491  United Kingdom     False   \n",
       "3492  United Kingdom     False   \n",
       "\n",
       "                                                 corpus  \n",
       "0     simple story unfortunate outcome really could ...  \n",
       "1     flight delayed due inbound flight arriving lat...  \n",
       "2     verified fast friendly check total contrast ga...  \n",
       "3     understand british airway classified star airl...  \n",
       "4     verified sure ba gradually made economy experi...  \n",
       "...                                                 ...  \n",
       "3488  flew lhr yvr outwards th may cabin newly fitte...  \n",
       "3489  lgw paphos th june check fast track security e...  \n",
       "3490  business class shanghai london worst business ...  \n",
       "3491  paphos lgw th june monitored outbound flight i...  \n",
       "3492  lhr dxb jun club world upper deck great flight...  \n",
       "\n",
       "[3493 rows x 6 columns]"
      ]
     },
     "execution_count": 23,
     "metadata": {},
     "output_type": "execute_result"
    }
   ],
   "source": [
    "#resetting the index\n",
    "df.reset_index(drop=True)"
   ]
  },
  {
   "cell_type": "code",
   "execution_count": 24,
   "id": "b4cdf2e3-a86b-4947-873e-6fb82976d3eb",
   "metadata": {},
   "outputs": [],
   "source": [
    "# export the cleaned data\n",
    "\n",
    "df.to_csv(cwd + \"/cleaned-BA-reviews.csv\")"
   ]
  }
 ],
 "metadata": {
  "kernelspec": {
   "display_name": "Python 3 (ipykernel)",
   "language": "python",
   "name": "python3"
  },
  "language_info": {
   "codemirror_mode": {
    "name": "ipython",
    "version": 3
   },
   "file_extension": ".py",
   "mimetype": "text/x-python",
   "name": "python",
   "nbconvert_exporter": "python",
   "pygments_lexer": "ipython3",
   "version": "3.10.9"
  }
 },
 "nbformat": 4,
 "nbformat_minor": 5
}
